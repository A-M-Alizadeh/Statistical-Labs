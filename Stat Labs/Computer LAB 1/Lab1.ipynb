{
  "cells": [
    {
      "cell_type": "markdown",
      "metadata": {
        "id": "w01Aikz9Pk04"
      },
      "source": [
        "**STATISTICAL LEARNING AND NEURAL NETWORKS, A.A. 2022/2023**\n",
        "\n",
        "**COMPUTER LAB 1** - k-NN classifier\n",
        "\n",
        "**Duration: 6 hours**"
      ]
    },
    {
      "cell_type": "markdown",
      "metadata": {
        "id": "snVsJOyvonwT"
      },
      "source": [
        "**Exercise 1 - Synthetic dataset**\n",
        "\n",
        "In this exercise, you will employ a synthetic dataset (file Lab1_Ex_1_Synthtetic.hdf5), containing labelled training data and test data for two classes. For each example the first two columns represent the features, while the last column represents the label.\n",
        "\n",
        "Task: your task is to implement a k-NN classifier, which calculates the probability that a given test example belongs to each class, and outputs a class label as the class with the highest probability. You will evaluate the classifier performance computing the average classification accuracy (i.e. the fraction of test examples that have been classified correctly in respect to the full test set).\n",
        "\n",
        "In particular, you should perform the following:\n",
        "\n",
        "*   Train a k-NN classifier for different values of k.\n",
        "*   Compare accuracy on the training set and the test set. Calculating accuracy of the training set means that you will have to classify each sample in the training set as if it were a test sample; one expects that classification of training samples will perform well, and this may also be used to validate your implementation. Accuracy is defined as the ratio between the number of test samples that are correctly classified, and the total number of test samples. Create a graph using the matplotlib library showing the evolution of the accuracy for different values of k over the test set. Create a second graph to show the evolution of the accuracy for different values of k over the train set and compare the two.\n",
        "\n",
        "*   Identifying overfitting and underfitting in the obtained results. \n",
        "\n",
        "Note that, for this computer lab, you do not need to employ a validation set.\n",
        "\n",
        "**Other indications:**\n",
        "*   The student is required to implement the k-NN algorithm from scratch. Only the numpy library is allowed, while other libraries such as scikit_learn are forbidden."
      ]
    },
    {
      "cell_type": "code",
      "execution_count": null,
      "metadata": {
        "id": "gqR9LW3xonHa"
      },
      "outputs": [],
      "source": [
        "import numpy as np\n",
        "import matplotlib.pyplot as plt\n",
        "import h5py\n",
        "Dataset1 = h5py.File('C:\\\\Users\\\\ASUS\\\\Desktop\\\\slnn-lab1\\\\Lab1_Ex_1_Synthtetic.hdf5', 'r')\n",
        "Data = np.array(Dataset1.get('Dataset'))\n",
        "\n",
        "\n",
        "def euclidean_distance(vec1, vec2):\n",
        "    return np.sqrt(np.sum((vec1 - vec2) ** 2))\n",
        "\n",
        "def k_nn_classifier(sample, train_set, k):\n",
        "    distances = []\n",
        "    for data_point in train_set:\n",
        "        distances.append((euclidean_distance(sample[:-1], data_point[:-1]), data_point[-1]))\n",
        "    distances.sort(key=lambda x: x[0])\n",
        "    neighbors = distances[:k]\n",
        "    classes, counts = np.unique([neighbor[-1] for neighbor in neighbors], return_counts=True)\n",
        "    return classes[np.argmax(counts)]\n",
        "\n",
        "\n",
        "\n",
        "\n",
        "\n",
        "# Loop over different values of k and compute accuracies\n",
        "train_accuracies = []\n",
        "test_accuracies = []\n",
        "ks = range(1, 21)  # Assuming you want to test k from 1 to 20\n",
        "for k in ks:\n",
        "    correct_train = 0\n",
        "    correct_test = 0\n",
        "    \n",
        "    # Evaluate on training set\n",
        "    for sample in Train_Set:\n",
        "        predicted_class = k_nn_classifier(sample, Train_Set, k)\n",
        "        if predicted_class == sample[-1]:\n",
        "            correct_train += 1\n",
        "            \n",
        "    # Evaluate on test set\n",
        "    for sample in Test_Set:\n",
        "        predicted_class = k_nn_classifier(sample, Train_Set, k)\n",
        "        if predicted_class == sample[-1]:\n",
        "            correct_test += 1\n",
        "    \n",
        "    train_accuracies.append(correct_train / len(Train_Set))\n",
        "    test_accuracies.append(correct_test / len(Test_Set))\n",
        "\n",
        "# Plot accuracies\n",
        "plt.figure(figsize=(10, 5))\n",
        "plt.plot(ks, train_accuracies, label='Training Accuracy')\n",
        "plt.plot(ks, test_accuracies, label='Test Accuracy')\n",
        "plt.xlabel('k')\n",
        "plt.ylabel('Accuracy')\n",
        "plt.legend()\n",
        "plt.title('k-NN Classification Accuracy')\n",
        "plt.show()\n",
        "#Implement a function to compute the Euclidean distance between two vectors, and one to implement the k-NN algorithm by:\n",
        "#   - Taking a sample \n",
        "#   - Computing all the distances between the sample element and the elements of the training set\n",
        "#   - sort the the training set based on the distances to the element (the use of functions like np.argsort is allowed)\n",
        "#   - select the top k elements in terms of distance\n",
        "#   - evaluate to which class the majority of these k elements belongs to (e.g., it is possible to use the function np.unique with the option return_counts=True and the function np.argmax)"
      ]
    },
    {
      "cell_type": "code",
      "execution_count": null,
      "metadata": {
        "id": "H0BBNF3AoyU2"
      },
      "outputs": [],
      "source": [
        "#Change the path to match the position of your file\n",
        "#The Dataset can be loaded using thhe file option in Google Colab (the directory icon on the left)\n",
        "Dataset1 = h5py.File('/content/Lab1_Ex_1_Synthtetic.hdf5')\n",
        "Data = np.array(Dataset1.get('Dataset'))\n",
        "\n",
        "Train_Set = Data[:200,:] \n",
        "Test_Set = Data[200:,:] \n",
        "\n",
        "#To be completed by the student"
      ]
    },
    {
      "cell_type": "markdown",
      "metadata": {
        "id": "KyMY6gyCG4n6"
      },
      "source": [
        "**Student's comments to exercise 1**\n",
        "\n",
        "*Add comments to the results of Exercise 1 here (may use LateX for formulas if needed).*"
      ]
    },
    {
      "cell_type": "markdown",
      "metadata": {
        "id": "-00TK0cno8kU"
      },
      "source": [
        "**Exercise 2 - Wine dataset**\n",
        "\n",
        "*Part 1*\n",
        "\n",
        "In this exercise, a real problem will be examined. The dataset used in this exercise was derived from wine quality dataset from the work \"*Modeling wine preferences by data mining from physicochemical properties*\" by P. Cortez, A. Cerdeira, F. Almeida, T. Matos and J. Reis. \n",
        "\n",
        "For each element of the dataset 11 features are provided, representing different wine characteristics, such as density, pH and alcholic content, and the final column consists of a quality evaluation on a scale from 1 to 10. More information can be found at https://archive.ics.uci.edu/ml/datasets/wine+quality.\n",
        "\n",
        "A subset of the dataset containing 400 elements is provided. Create a training set and a test set of 200 samples each. The objective is to: \n",
        "*   Predict the wine quality over the test set using the k-NN algorithm and evaluating the prediction accuracy for different values of k. Create a graph using the matplotlib library showing the evolution of the accuracy for different values of k over the test set.\n",
        "*   Identifying overfitting and underfitting in the obtained results. \n",
        "\n",
        "*Part 2*\n",
        "\n",
        "The prediction of the wine quality could also be framed as a regression. Estimate the accuracy and the Mean Square Error achieved using linear resgression. For this task is possible to use the library sklearn and the function linear_model.LinearRegression() "
      ]
    },
    {
      "cell_type": "code",
      "execution_count": null,
      "metadata": {
        "id": "umDKCqJRpBDl"
      },
      "outputs": [],
      "source": [
        "#Part 1\n",
        "\n",
        "Dataset2 = h5py.File('/content/Lab1_Ex_2_wine.hdf5')\n",
        "\n",
        "Data = np.array(Dataset2.get('Dataset'))\n",
        "\n",
        "Train_Set = Data[:200,:] \n",
        "Test_Set = Data[200:,:] \n",
        "\n",
        "#To be completed by the student"
      ]
    },
    {
      "cell_type": "code",
      "execution_count": null,
      "metadata": {
        "id": "4sN3cp91pHsv"
      },
      "outputs": [],
      "source": [
        "#Part 2\n",
        "from sklearn import linear_model\n",
        "clf = linear_model.LinearRegression()\n",
        "\n",
        "#To be completed by the student"
      ]
    },
    {
      "cell_type": "markdown",
      "metadata": {
        "id": "cqYF9t2AIb4r"
      },
      "source": [
        "**Student's comments to exercise 2**\n",
        "\n",
        "*Add comments to the results of Exercise 2 here (may use LateX for formulas if needed).*"
      ]
    },
    {
      "cell_type": "markdown",
      "metadata": {
        "id": "6saN9xgEpGH2"
      },
      "source": [
        "**Exercise 3: Phoneme Dataset**\n",
        "\n",
        "In this exercise the Phoneme dataset is examined https://catalog.ldc.upenn.edu/LDC93s1. Each line represents 256 samples gathered at a 16 kHz of different speech signals. The objective is to classify wether the sound emitted is a \"sh\", \"iy\", \"dcl\", \"aa\", \"ao\" phoneme.  \n",
        "\n",
        "Again, a subset of the dataset containing 400 elements is provided. Create a training set and a test set of 200 samples each. \n",
        "\n",
        "\n",
        "*   Classify the samples which compose the test set using the k-NN algorithm and evaluate the prediction accuracy for different values of k. Create a graph using the matplotlib library showing the evolution of the accuracy for different values of k over the test set.\n",
        "*   Identifying overfitting and underfitting in the obtained results. "
      ]
    },
    {
      "cell_type": "code",
      "execution_count": null,
      "metadata": {
        "id": "SSQL6rM-pV9O"
      },
      "outputs": [],
      "source": [
        "Dataset3 = h5py.File('/content/Lab1_Ex_3.hdf5')\n",
        "\n",
        "Data = np.array(Dataset3.get('Dataset'))\n",
        "\n",
        "Train_Set = Data[:200,:] \n",
        "Test_Set = Data[200:,:] \n",
        "\n",
        "#To be completed by the student"
      ]
    },
    {
      "cell_type": "markdown",
      "metadata": {
        "id": "t-ZPSq-XIoEb"
      },
      "source": [
        "**Student's comments to exercise 3**\n",
        "\n",
        "*Add comments to the results of Exercise 3 here (may use LateX for formulas if needed).*"
      ]
    }
  ],
  "metadata": {
    "colab": {
      "collapsed_sections": [],
      "provenance": []
    },
    "kernelspec": {
      "display_name": "Python 3",
      "name": "python3"
    },
    "language_info": {
      "name": "python"
    }
  },
  "nbformat": 4,
  "nbformat_minor": 0
}
